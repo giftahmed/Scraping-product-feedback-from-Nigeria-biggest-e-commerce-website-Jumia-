{
  "cells": [
    {
      "cell_type": "markdown",
      "id": "13b54877-31d6-4334-9629-b19b411ab573",
      "metadata": {
        "id": "13b54877-31d6-4334-9629-b19b411ab573"
      },
      "source": [
        "# Scraping product feedback from Nigeria's biggest e-commerce website (Jumia)"
      ]
    },
    {
      "cell_type": "markdown",
      "id": "60c19827-a58c-4e7b-8245-ea904e1f1586",
      "metadata": {
        "id": "60c19827-a58c-4e7b-8245-ea904e1f1586"
      },
      "source": [
        "## Method and Steps\n",
        "\n",
        "We will be using the Python programming language.\n",
        "\n",
        "* Send a request to the Jumia website to get a particular webpage of your choice.\n",
        "* Use a framework called Beautiful Soup to parse the web pages.\n",
        "* Use Pandas to store the scraped data.\n",
        "* Save to Google Drive"
      ]
    },
    {
      "cell_type": "code",
      "source": [
        "# Importing necessary libraries\n",
        "from google.colab import drive\n",
        "drive.mount(\"/content/drive\", force_remount=True)  # Mount Google Drive to access files\n",
        "\n",
        "from bs4 import BeautifulSoup\n",
        "import requests\n",
        "import pandas as pd"
      ],
      "metadata": {
        "colab": {
          "base_uri": "https://localhost:8080/"
        },
        "id": "iMFv9P1lUQme",
        "outputId": "6d79aa0e-2645-43d1-8230-d69a565acec4"
      },
      "id": "iMFv9P1lUQme",
      "execution_count": 1,
      "outputs": [
        {
          "output_type": "stream",
          "name": "stdout",
          "text": [
            "Mounted at /content/drive\n"
          ]
        }
      ]
    },
    {
      "cell_type": "code",
      "source": [
        "# Create empty lists to store data\n",
        "summaries = []  # List to store product summaries\n",
        "reviews = []    # List to store product reviews\n",
        "ratings = []    # List to store product ratings"
      ],
      "metadata": {
        "id": "s-qCr-zYUV-7"
      },
      "id": "s-qCr-zYUV-7",
      "execution_count": 2,
      "outputs": []
    },
    {
      "cell_type": "code",
      "source": [
        "# Iterate through pages\n",
        "for page in range(1, 2):  # Scraping only one page for demonstration purpose\n",
        "    url = \"https://www.jumia.com.ng/catalog/productratingsreviews/sku/OI955EA4LZQQ4NAFAMZ/\" + \"?page=\" + str(page) + \"#catalog-listing\"\n",
        "    furl = requests.get(url)  # Send GET request to the Jumia website\n",
        "    jsoup = BeautifulSoup(furl.content, 'html.parser')  # Parse the HTML content\n",
        "    products = jsoup.find_all('article', class_='-pvs -hr _bet')  # Find all products in the HTML\n",
        "\n",
        "    # Iterate through each product\n",
        "    for product in products:\n",
        "        summary = product.find('h3', class_=\"-m -fs16 -pvs\").text.replace('\\n', '')  # Extract product summary\n",
        "        review = product.find('p', class_=\"-pvs\").text.replace('\\n', '')  # Extract product review\n",
        "        try:\n",
        "            rating = product.find('div', class_='stars _m _al -mvs').text.replace('\\n', '')  # Extract product rating\n",
        "        except:\n",
        "            rating = 'None'  # In case rating is not available, assign 'None'\n",
        "\n",
        "        # Append data to lists\n",
        "        summaries.append(summary)\n",
        "        reviews.append(review)\n",
        "        ratings.append(rating)\n",
        "\n",
        "        # Print the data\n",
        "        print([summary, review, rating])"
      ],
      "metadata": {
        "colab": {
          "base_uri": "https://localhost:8080/"
        },
        "id": "Ew8vvGufUZR4",
        "outputId": "eea18f9d-f1e7-478d-c067-33624b366340"
      },
      "id": "Ew8vvGufUZR4",
      "execution_count": 3,
      "outputs": [
        {
          "output_type": "stream",
          "name": "stdout",
          "text": [
            "['I love', 'Perfect', '5 out of 5']\n",
            "['Highly quality', 'The sound is very okay', '5 out of 5']\n"
          ]
        }
      ]
    },
    {
      "cell_type": "code",
      "source": [
        "# Create a DataFrame from the lists\n",
        "df = pd.DataFrame({'Product summary': summaries, 'Review': reviews, 'Rating': ratings})"
      ],
      "metadata": {
        "id": "XHd1nwbNUdcP"
      },
      "id": "XHd1nwbNUdcP",
      "execution_count": 4,
      "outputs": []
    },
    {
      "cell_type": "code",
      "source": [
        "# Display the shape of DataFrame\n",
        "print(df.shape)"
      ],
      "metadata": {
        "colab": {
          "base_uri": "https://localhost:8080/"
        },
        "id": "M8I9-c92UhTJ",
        "outputId": "3d016f82-3077-4702-96bd-c6669099b365"
      },
      "id": "M8I9-c92UhTJ",
      "execution_count": 5,
      "outputs": [
        {
          "output_type": "stream",
          "name": "stdout",
          "text": [
            "(2, 3)\n"
          ]
        }
      ]
    },
    {
      "cell_type": "code",
      "source": [
        "# Display the first few rows of DataFrame\n",
        "print(df.head())"
      ],
      "metadata": {
        "colab": {
          "base_uri": "https://localhost:8080/"
        },
        "id": "IinqA9UGUjdq",
        "outputId": "d0ac3e7d-7c7c-4b64-844d-f7e169802f7b"
      },
      "id": "IinqA9UGUjdq",
      "execution_count": 6,
      "outputs": [
        {
          "output_type": "stream",
          "name": "stdout",
          "text": [
            "  Product summary                  Review      Rating\n",
            "0          I love                 Perfect  5 out of 5\n",
            "1  Highly quality  The sound is very okay  5 out of 5\n"
          ]
        }
      ]
    },
    {
      "cell_type": "code",
      "source": [
        "# Save DataFrame to CSV file\n",
        "df.to_csv('./drive/My Drive/MLstart/financial-sentiment-analysis/giftv1/newkogi/k/productsR1.csv', index=False, encoding='utf-8')"
      ],
      "metadata": {
        "id": "xyjLBck4UlnW"
      },
      "id": "xyjLBck4UlnW",
      "execution_count": 7,
      "outputs": []
    }
  ],
  "metadata": {
    "kernelspec": {
      "display_name": "Python 3",
      "name": "python3"
    },
    "language_info": {
      "codemirror_mode": {
        "name": "ipython",
        "version": 3
      },
      "file_extension": ".py",
      "mimetype": "text/x-python",
      "name": "python",
      "nbconvert_exporter": "python",
      "pygments_lexer": "ipython3",
      "version": "3.9.13"
    },
    "colab": {
      "provenance": []
    }
  },
  "nbformat": 4,
  "nbformat_minor": 5
}